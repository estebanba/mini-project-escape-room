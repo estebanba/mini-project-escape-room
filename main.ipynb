{
 "cells": [
  {
   "cell_type": "code",
   "execution_count": 1,
   "metadata": {
    "colab": {
     "base_uri": "https://localhost:8080/"
    },
    "executionInfo": {
     "elapsed": 264,
     "status": "ok",
     "timestamp": 1736959349476,
     "user": {
      "displayName": "Esteban Basili",
      "userId": "09903475683337342556"
     },
     "user_tz": -60
    },
    "id": "ctxcqBv6zBNe",
    "outputId": "61d510a4-13aa-482d-e63f-b10668160ca8"
   },
   "outputs": [],
   "source": [
    "%load_ext autoreload\n",
    "%autoreload 2\n",
    "\n",
    "import objects\n",
    "import functions"
   ]
  },
  {
   "cell_type": "code",
   "execution_count": 2,
   "metadata": {
    "colab": {
     "base_uri": "https://localhost:8080/",
     "height": 211
    },
    "executionInfo": {
     "elapsed": 18,
     "status": "error",
     "timestamp": 1736958612040,
     "user": {
      "displayName": "Esteban Basili",
      "userId": "09903475683337342556"
     },
     "user_tz": -60
    },
    "id": "8mzEuoESXrG3",
    "outputId": "1bc806b5-6143-44a0-f374-8f5e9d231d7a"
   },
   "outputs": [],
   "source": [
    "\n",
    "# define game state. Do not directly change this dict.\n",
    "# Instead, when a new game starts, make a copy of this\n",
    "# dict and use the copy to store gameplay state. This\n",
    "# way you can replay the game multiple times.\n",
    "\n",
    "INIT_GAME_STATE = {\n",
    "    \"current_room\": objects.game_room,\n",
    "    \"keys_collected\": [],\n",
    "    \"target_room\": objects.outside\n",
    "}\n",
    "\n",
    "game_state = INIT_GAME_STATE.copy()"
   ]
  },
  {
   "cell_type": "code",
   "execution_count": 3,
   "metadata": {
    "executionInfo": {
     "elapsed": 16,
     "status": "aborted",
     "timestamp": 1736958612042,
     "user": {
      "displayName": "Esteban Basili",
      "userId": "09903475683337342556"
     },
     "user_tz": -60
    },
    "id": "IEYSY--mXrHB"
   },
   "outputs": [
    {
     "name": "stdout",
     "output_type": "stream",
     "text": [
      "You wake up on a couch and find yourself in a strange house with no windows which you have never been to before. You don't remember why you are here and what had happened before. You feel some unknown danger is approaching and you must get out of the house, NOW!\n",
      "You are now in game room\n"
     ]
    },
    {
     "name": "stdin",
     "output_type": "stream",
     "text": [
      "What would you like to do? Type 'explore' or 'examine' or 'move room':? explore\n"
     ]
    },
    {
     "name": "stdout",
     "output_type": "stream",
     "text": [
      "You explore the room. This is game room. You find couch, piano, door a\n",
      "You are now in game room\n"
     ]
    },
    {
     "name": "stdin",
     "output_type": "stream",
     "text": [
      "What would you like to do? Type 'explore' or 'examine' or 'move room':? examine\n",
      "What would you like to examine? piano\n",
      "Do you want to collect the key 'key for door a'? Write 'yes' or 'no':  yes\n"
     ]
    },
    {
     "name": "stdout",
     "output_type": "stream",
     "text": [
      "You examine piano. You find key for door a.You collected it.\n",
      "You are now in game room\n"
     ]
    },
    {
     "name": "stdin",
     "output_type": "stream",
     "text": [
      "What would you like to do? Type 'explore' or 'examine' or 'move room':? examine\n",
      "What would you like to examine? door a\n"
     ]
    },
    {
     "name": "stdout",
     "output_type": "stream",
     "text": [
      "You examine door a. You unlock it with a key you have.\n",
      "You examine door a. \n",
      "You are now in game room\n"
     ]
    },
    {
     "name": "stdin",
     "output_type": "stream",
     "text": [
      "What would you like to do? Type 'explore' or 'examine' or 'move room':? move room\n"
     ]
    },
    {
     "name": "stdout",
     "output_type": "stream",
     "text": [
      "You can see doors leading to other rooms:\n",
      "door a is unlocked.\n"
     ]
    },
    {
     "name": "stdin",
     "output_type": "stream",
     "text": [
      "Which door would you like to go through? Please type the door name exactly as shown above:  door a\n"
     ]
    },
    {
     "name": "stdout",
     "output_type": "stream",
     "text": [
      "Moving through door a, you enter bedroom 1.\n",
      "You are now in bedroom 1\n"
     ]
    },
    {
     "name": "stdin",
     "output_type": "stream",
     "text": [
      "What would you like to do? Type 'explore' or 'examine' or 'move room':? move room\n"
     ]
    },
    {
     "name": "stdout",
     "output_type": "stream",
     "text": [
      "You can see doors leading to other rooms:\n",
      "door a is unlocked.\n",
      "door b is locked.\n",
      "door c is locked.\n"
     ]
    },
    {
     "name": "stdin",
     "output_type": "stream",
     "text": [
      "Which door would you like to go through? Please type the door name exactly as shown above:  examine\n"
     ]
    },
    {
     "name": "stdout",
     "output_type": "stream",
     "text": [
      "There doesn't seem to be a door by that name here. Please check the door name and try again.\n",
      "There doesn't seem to be a door by that name here. Please check the door name and try again.\n",
      "There doesn't seem to be a door by that name here. Please check the door name and try again.\n",
      "You are now in bedroom 1\n"
     ]
    },
    {
     "name": "stdin",
     "output_type": "stream",
     "text": [
      "What would you like to do? Type 'explore' or 'examine' or 'move room':? examine\n",
      "What would you like to examine? queen bed\n",
      "Do you want to collect the key 'key for door b'? Write 'yes' or 'no':  yes\n"
     ]
    },
    {
     "name": "stdout",
     "output_type": "stream",
     "text": [
      "You examine queen bed. You find key for door b.You collected it.\n",
      "You are now in bedroom 1\n"
     ]
    },
    {
     "name": "stdin",
     "output_type": "stream",
     "text": [
      "What would you like to do? Type 'explore' or 'examine' or 'move room':? examine\n",
      "What would you like to examine? door b\n"
     ]
    },
    {
     "name": "stdout",
     "output_type": "stream",
     "text": [
      "You examine door b. You unlock it with a key you have.\n",
      "You examine door b. \n",
      "You are now in bedroom 1\n"
     ]
    },
    {
     "name": "stdin",
     "output_type": "stream",
     "text": [
      "What would you like to do? Type 'explore' or 'examine' or 'move room':? move room\n"
     ]
    },
    {
     "name": "stdout",
     "output_type": "stream",
     "text": [
      "You can see doors leading to other rooms:\n",
      "door a is unlocked.\n",
      "door b is unlocked.\n",
      "door c is locked.\n"
     ]
    },
    {
     "name": "stdin",
     "output_type": "stream",
     "text": [
      "Which door would you like to go through? Please type the door name exactly as shown above:  door b\n"
     ]
    },
    {
     "name": "stdout",
     "output_type": "stream",
     "text": [
      "There doesn't seem to be a door by that name here. Please check the door name and try again.\n",
      "Moving through door b, you enter bedroom 2.\n",
      "You are now in bedroom 2\n"
     ]
    },
    {
     "name": "stdin",
     "output_type": "stream",
     "text": [
      "What would you like to do? Type 'explore' or 'examine' or 'move room':? explore\n"
     ]
    },
    {
     "name": "stdout",
     "output_type": "stream",
     "text": [
      "You explore the room. This is bedroom 2. You find door b, double bed, dresser\n",
      "You are now in bedroom 2\n"
     ]
    },
    {
     "name": "stdin",
     "output_type": "stream",
     "text": [
      "What would you like to do? Type 'explore' or 'examine' or 'move room':? examine\n",
      "What would you like to examine? double bed\n",
      "Do you want to collect the key 'key for door c'? Write 'yes' or 'no':  yes\n"
     ]
    },
    {
     "name": "stdout",
     "output_type": "stream",
     "text": [
      "You examine double bed. You find key for door c.You collected it.\n",
      "You are now in bedroom 2\n"
     ]
    },
    {
     "name": "stdin",
     "output_type": "stream",
     "text": [
      "What would you like to do? Type 'explore' or 'examine' or 'move room':? examine\n",
      "What would you like to examine? dresser\n",
      "Do you want to collect the key 'key for door d'? Write 'yes' or 'no':  yes\n"
     ]
    },
    {
     "name": "stdout",
     "output_type": "stream",
     "text": [
      "You examine dresser. You find key for door d.You collected it.\n",
      "You are now in bedroom 2\n"
     ]
    },
    {
     "name": "stdin",
     "output_type": "stream",
     "text": [
      "What would you like to do? Type 'explore' or 'examine' or 'move room':? move room\n"
     ]
    },
    {
     "name": "stdout",
     "output_type": "stream",
     "text": [
      "You can see doors leading to other rooms:\n",
      "door b is unlocked.\n"
     ]
    },
    {
     "name": "stdin",
     "output_type": "stream",
     "text": [
      "Which door would you like to go through? Please type the door name exactly as shown above:  door b\n"
     ]
    },
    {
     "name": "stdout",
     "output_type": "stream",
     "text": [
      "Moving through door b, you enter bedroom 1.\n",
      "You are now in bedroom 1\n"
     ]
    },
    {
     "name": "stdin",
     "output_type": "stream",
     "text": [
      "What would you like to do? Type 'explore' or 'examine' or 'move room':? examine\n",
      "What would you like to examine? door c\n"
     ]
    },
    {
     "name": "stdout",
     "output_type": "stream",
     "text": [
      "You examine door c. You unlock it with a key you have.\n",
      "You examine door c. \n",
      "You are now in bedroom 1\n"
     ]
    },
    {
     "name": "stdin",
     "output_type": "stream",
     "text": [
      "What would you like to do? Type 'explore' or 'examine' or 'move room':? move room\n"
     ]
    },
    {
     "name": "stdout",
     "output_type": "stream",
     "text": [
      "You can see doors leading to other rooms:\n",
      "door a is unlocked.\n",
      "door b is unlocked.\n",
      "door c is unlocked.\n"
     ]
    },
    {
     "name": "stdin",
     "output_type": "stream",
     "text": [
      "Which door would you like to go through? Please type the door name exactly as shown above:  door c\n"
     ]
    },
    {
     "name": "stdout",
     "output_type": "stream",
     "text": [
      "There doesn't seem to be a door by that name here. Please check the door name and try again.\n",
      "There doesn't seem to be a door by that name here. Please check the door name and try again.\n",
      "Moving through door c, you enter living room.\n",
      "You are now in living room\n"
     ]
    },
    {
     "name": "stdin",
     "output_type": "stream",
     "text": [
      "What would you like to do? Type 'explore' or 'examine' or 'move room':? examine\n",
      "What would you like to examine? door d\n"
     ]
    },
    {
     "name": "stdout",
     "output_type": "stream",
     "text": [
      "You examine door d. You unlock it with a key you have.\n",
      "You examine door d. \n",
      "You are now in living room\n"
     ]
    },
    {
     "name": "stdin",
     "output_type": "stream",
     "text": [
      "What would you like to do? Type 'explore' or 'examine' or 'move room':? move room\n"
     ]
    },
    {
     "name": "stdout",
     "output_type": "stream",
     "text": [
      "You can see doors leading to other rooms:\n",
      "door d is unlocked.\n"
     ]
    },
    {
     "name": "stdin",
     "output_type": "stream",
     "text": [
      "Which door would you like to go through? Please type the door name exactly as shown above:  door d\n"
     ]
    },
    {
     "name": "stdout",
     "output_type": "stream",
     "text": [
      "Moving through door d, you enter outside.\n",
      "Congrats! You escaped the room!\n",
      "You are now in living room\n"
     ]
    },
    {
     "ename": "KeyboardInterrupt",
     "evalue": "Interrupted by user",
     "output_type": "error",
     "traceback": [
      "\u001b[1;31m---------------------------------------------------------------------------\u001b[0m",
      "\u001b[1;31mKeyboardInterrupt\u001b[0m                         Traceback (most recent call last)",
      "Cell \u001b[1;32mIn[3], line 1\u001b[0m\n\u001b[1;32m----> 1\u001b[0m functions\u001b[38;5;241m.\u001b[39mstart_game(game_state)\n",
      "File \u001b[1;32m~\\Ironhack\\Bootcamp\\Week1\\mini-project-escape-room\\functions.py:8\u001b[0m, in \u001b[0;36mstart_game\u001b[1;34m(game_state)\u001b[0m\n\u001b[0;32m      4\u001b[0m \u001b[38;5;250m\u001b[39m\u001b[38;5;124;03m\"\"\"\u001b[39;00m\n\u001b[0;32m      5\u001b[0m \u001b[38;5;124;03mStart the game\u001b[39;00m\n\u001b[0;32m      6\u001b[0m \u001b[38;5;124;03m\"\"\"\u001b[39;00m\n\u001b[0;32m      7\u001b[0m \u001b[38;5;28mprint\u001b[39m(\u001b[38;5;124m\"\u001b[39m\u001b[38;5;124mYou wake up on a couch and find yourself in a strange house with no windows which you have never been to before. You don\u001b[39m\u001b[38;5;124m'\u001b[39m\u001b[38;5;124mt remember why you are here and what had happened before. You feel some unknown danger is approaching and you must get out of the house, NOW!\u001b[39m\u001b[38;5;124m\"\u001b[39m)\n\u001b[1;32m----> 8\u001b[0m play_room(game_state[\u001b[38;5;124m\"\u001b[39m\u001b[38;5;124mcurrent_room\u001b[39m\u001b[38;5;124m\"\u001b[39m], game_state)\n",
      "File \u001b[1;32m~\\Ironhack\\Bootcamp\\Week1\\mini-project-escape-room\\functions.py:25\u001b[0m, in \u001b[0;36mplay_room\u001b[1;34m(room, game_state)\u001b[0m\n\u001b[0;32m     23\u001b[0m \u001b[38;5;28;01mif\u001b[39;00m intended_action \u001b[38;5;241m==\u001b[39m \u001b[38;5;124m\"\u001b[39m\u001b[38;5;124mexplore\u001b[39m\u001b[38;5;124m\"\u001b[39m:\n\u001b[0;32m     24\u001b[0m     explore_room(room)\n\u001b[1;32m---> 25\u001b[0m     play_room(room, game_state)\n\u001b[0;32m     26\u001b[0m \u001b[38;5;66;03m# elif intended_action == \"unlock door\":\u001b[39;00m\n\u001b[0;32m     27\u001b[0m \u001b[38;5;66;03m#     unlock_door(room)\u001b[39;00m\n\u001b[0;32m     28\u001b[0m \u001b[38;5;28;01melif\u001b[39;00m intended_action \u001b[38;5;241m==\u001b[39m \u001b[38;5;124m\"\u001b[39m\u001b[38;5;124mmove room\u001b[39m\u001b[38;5;124m\"\u001b[39m:\n",
      "File \u001b[1;32m~\\Ironhack\\Bootcamp\\Week1\\mini-project-escape-room\\functions.py:33\u001b[0m, in \u001b[0;36mplay_room\u001b[1;34m(room, game_state)\u001b[0m\n\u001b[0;32m     31\u001b[0m \u001b[38;5;28;01melif\u001b[39;00m intended_action \u001b[38;5;241m==\u001b[39m \u001b[38;5;124m\"\u001b[39m\u001b[38;5;124mexamine\u001b[39m\u001b[38;5;124m\"\u001b[39m:\n\u001b[0;32m     32\u001b[0m     examine_item(\u001b[38;5;28minput\u001b[39m(\u001b[38;5;124m\"\u001b[39m\u001b[38;5;124mWhat would you like to examine?\u001b[39m\u001b[38;5;124m\"\u001b[39m)\u001b[38;5;241m.\u001b[39mstrip(), game_state)\n\u001b[1;32m---> 33\u001b[0m     play_room(room, game_state)\n\u001b[0;32m     34\u001b[0m \u001b[38;5;28;01melse\u001b[39;00m:\n\u001b[0;32m     35\u001b[0m     \u001b[38;5;28mprint\u001b[39m(\u001b[38;5;124m\"\u001b[39m\u001b[38;5;124mNot sure what you mean. Type \u001b[39m\u001b[38;5;124m'\u001b[39m\u001b[38;5;124mexplore\u001b[39m\u001b[38;5;124m'\u001b[39m\u001b[38;5;124m or \u001b[39m\u001b[38;5;124m'\u001b[39m\u001b[38;5;124mexamine\u001b[39m\u001b[38;5;124m'\u001b[39m\u001b[38;5;124m.\u001b[39m\u001b[38;5;124m\"\u001b[39m)\n",
      "File \u001b[1;32m~\\Ironhack\\Bootcamp\\Week1\\mini-project-escape-room\\functions.py:33\u001b[0m, in \u001b[0;36mplay_room\u001b[1;34m(room, game_state)\u001b[0m\n\u001b[0;32m     31\u001b[0m \u001b[38;5;28;01melif\u001b[39;00m intended_action \u001b[38;5;241m==\u001b[39m \u001b[38;5;124m\"\u001b[39m\u001b[38;5;124mexamine\u001b[39m\u001b[38;5;124m\"\u001b[39m:\n\u001b[0;32m     32\u001b[0m     examine_item(\u001b[38;5;28minput\u001b[39m(\u001b[38;5;124m\"\u001b[39m\u001b[38;5;124mWhat would you like to examine?\u001b[39m\u001b[38;5;124m\"\u001b[39m)\u001b[38;5;241m.\u001b[39mstrip(), game_state)\n\u001b[1;32m---> 33\u001b[0m     play_room(room, game_state)\n\u001b[0;32m     34\u001b[0m \u001b[38;5;28;01melse\u001b[39;00m:\n\u001b[0;32m     35\u001b[0m     \u001b[38;5;28mprint\u001b[39m(\u001b[38;5;124m\"\u001b[39m\u001b[38;5;124mNot sure what you mean. Type \u001b[39m\u001b[38;5;124m'\u001b[39m\u001b[38;5;124mexplore\u001b[39m\u001b[38;5;124m'\u001b[39m\u001b[38;5;124m or \u001b[39m\u001b[38;5;124m'\u001b[39m\u001b[38;5;124mexamine\u001b[39m\u001b[38;5;124m'\u001b[39m\u001b[38;5;124m.\u001b[39m\u001b[38;5;124m\"\u001b[39m)\n",
      "File \u001b[1;32m~\\Ironhack\\Bootcamp\\Week1\\mini-project-escape-room\\functions.py:29\u001b[0m, in \u001b[0;36mplay_room\u001b[1;34m(room, game_state)\u001b[0m\n\u001b[0;32m     26\u001b[0m \u001b[38;5;66;03m# elif intended_action == \"unlock door\":\u001b[39;00m\n\u001b[0;32m     27\u001b[0m \u001b[38;5;66;03m#     unlock_door(room)\u001b[39;00m\n\u001b[0;32m     28\u001b[0m \u001b[38;5;28;01melif\u001b[39;00m intended_action \u001b[38;5;241m==\u001b[39m \u001b[38;5;124m\"\u001b[39m\u001b[38;5;124mmove room\u001b[39m\u001b[38;5;124m\"\u001b[39m:\n\u001b[1;32m---> 29\u001b[0m     move_room(room, game_state)\n\u001b[0;32m     30\u001b[0m     play_room(room, game_state)\n\u001b[0;32m     31\u001b[0m \u001b[38;5;28;01melif\u001b[39;00m intended_action \u001b[38;5;241m==\u001b[39m \u001b[38;5;124m\"\u001b[39m\u001b[38;5;124mexamine\u001b[39m\u001b[38;5;124m\"\u001b[39m:\n",
      "File \u001b[1;32m~\\Ironhack\\Bootcamp\\Week1\\mini-project-escape-room\\functions.py:184\u001b[0m, in \u001b[0;36mmove_room\u001b[1;34m(current_room, game_state)\u001b[0m\n\u001b[0;32m    182\u001b[0m         next_room \u001b[38;5;241m=\u001b[39m get_next_room_of_door(door, current_room)\n\u001b[0;32m    183\u001b[0m         \u001b[38;5;28mprint\u001b[39m(\u001b[38;5;124mf\u001b[39m\u001b[38;5;124m\"\u001b[39m\u001b[38;5;124mMoving through \u001b[39m\u001b[38;5;132;01m{\u001b[39;00mchosen_door_name\u001b[38;5;132;01m}\u001b[39;00m\u001b[38;5;124m, you enter \u001b[39m\u001b[38;5;132;01m{\u001b[39;00mnext_room[\u001b[38;5;124m'\u001b[39m\u001b[38;5;124mname\u001b[39m\u001b[38;5;124m'\u001b[39m]\u001b[38;5;132;01m}\u001b[39;00m\u001b[38;5;124m.\u001b[39m\u001b[38;5;124m\"\u001b[39m)\n\u001b[1;32m--> 184\u001b[0m         play_room(next_room, game_state)\n\u001b[0;32m    185\u001b[0m         \u001b[38;5;28;01mreturn\u001b[39;00m  \u001b[38;5;66;03m# Ends the function after moving to the next room or informing about the locked status\u001b[39;00m\n\u001b[0;32m    186\u001b[0m \u001b[38;5;28;01melse\u001b[39;00m:\n",
      "File \u001b[1;32m~\\Ironhack\\Bootcamp\\Week1\\mini-project-escape-room\\functions.py:30\u001b[0m, in \u001b[0;36mplay_room\u001b[1;34m(room, game_state)\u001b[0m\n\u001b[0;32m     28\u001b[0m \u001b[38;5;28;01melif\u001b[39;00m intended_action \u001b[38;5;241m==\u001b[39m \u001b[38;5;124m\"\u001b[39m\u001b[38;5;124mmove room\u001b[39m\u001b[38;5;124m\"\u001b[39m:\n\u001b[0;32m     29\u001b[0m     move_room(room, game_state)\n\u001b[1;32m---> 30\u001b[0m     play_room(room, game_state)\n\u001b[0;32m     31\u001b[0m \u001b[38;5;28;01melif\u001b[39;00m intended_action \u001b[38;5;241m==\u001b[39m \u001b[38;5;124m\"\u001b[39m\u001b[38;5;124mexamine\u001b[39m\u001b[38;5;124m\"\u001b[39m:\n\u001b[0;32m     32\u001b[0m     examine_item(\u001b[38;5;28minput\u001b[39m(\u001b[38;5;124m\"\u001b[39m\u001b[38;5;124mWhat would you like to examine?\u001b[39m\u001b[38;5;124m\"\u001b[39m)\u001b[38;5;241m.\u001b[39mstrip(), game_state)\n",
      "File \u001b[1;32m~\\Ironhack\\Bootcamp\\Week1\\mini-project-escape-room\\functions.py:33\u001b[0m, in \u001b[0;36mplay_room\u001b[1;34m(room, game_state)\u001b[0m\n\u001b[0;32m     31\u001b[0m \u001b[38;5;28;01melif\u001b[39;00m intended_action \u001b[38;5;241m==\u001b[39m \u001b[38;5;124m\"\u001b[39m\u001b[38;5;124mexamine\u001b[39m\u001b[38;5;124m\"\u001b[39m:\n\u001b[0;32m     32\u001b[0m     examine_item(\u001b[38;5;28minput\u001b[39m(\u001b[38;5;124m\"\u001b[39m\u001b[38;5;124mWhat would you like to examine?\u001b[39m\u001b[38;5;124m\"\u001b[39m)\u001b[38;5;241m.\u001b[39mstrip(), game_state)\n\u001b[1;32m---> 33\u001b[0m     play_room(room, game_state)\n\u001b[0;32m     34\u001b[0m \u001b[38;5;28;01melse\u001b[39;00m:\n\u001b[0;32m     35\u001b[0m     \u001b[38;5;28mprint\u001b[39m(\u001b[38;5;124m\"\u001b[39m\u001b[38;5;124mNot sure what you mean. Type \u001b[39m\u001b[38;5;124m'\u001b[39m\u001b[38;5;124mexplore\u001b[39m\u001b[38;5;124m'\u001b[39m\u001b[38;5;124m or \u001b[39m\u001b[38;5;124m'\u001b[39m\u001b[38;5;124mexamine\u001b[39m\u001b[38;5;124m'\u001b[39m\u001b[38;5;124m.\u001b[39m\u001b[38;5;124m\"\u001b[39m)\n",
      "File \u001b[1;32m~\\Ironhack\\Bootcamp\\Week1\\mini-project-escape-room\\functions.py:33\u001b[0m, in \u001b[0;36mplay_room\u001b[1;34m(room, game_state)\u001b[0m\n\u001b[0;32m     31\u001b[0m \u001b[38;5;28;01melif\u001b[39;00m intended_action \u001b[38;5;241m==\u001b[39m \u001b[38;5;124m\"\u001b[39m\u001b[38;5;124mexamine\u001b[39m\u001b[38;5;124m\"\u001b[39m:\n\u001b[0;32m     32\u001b[0m     examine_item(\u001b[38;5;28minput\u001b[39m(\u001b[38;5;124m\"\u001b[39m\u001b[38;5;124mWhat would you like to examine?\u001b[39m\u001b[38;5;124m\"\u001b[39m)\u001b[38;5;241m.\u001b[39mstrip(), game_state)\n\u001b[1;32m---> 33\u001b[0m     play_room(room, game_state)\n\u001b[0;32m     34\u001b[0m \u001b[38;5;28;01melse\u001b[39;00m:\n\u001b[0;32m     35\u001b[0m     \u001b[38;5;28mprint\u001b[39m(\u001b[38;5;124m\"\u001b[39m\u001b[38;5;124mNot sure what you mean. Type \u001b[39m\u001b[38;5;124m'\u001b[39m\u001b[38;5;124mexplore\u001b[39m\u001b[38;5;124m'\u001b[39m\u001b[38;5;124m or \u001b[39m\u001b[38;5;124m'\u001b[39m\u001b[38;5;124mexamine\u001b[39m\u001b[38;5;124m'\u001b[39m\u001b[38;5;124m.\u001b[39m\u001b[38;5;124m\"\u001b[39m)\n",
      "File \u001b[1;32m~\\Ironhack\\Bootcamp\\Week1\\mini-project-escape-room\\functions.py:29\u001b[0m, in \u001b[0;36mplay_room\u001b[1;34m(room, game_state)\u001b[0m\n\u001b[0;32m     26\u001b[0m \u001b[38;5;66;03m# elif intended_action == \"unlock door\":\u001b[39;00m\n\u001b[0;32m     27\u001b[0m \u001b[38;5;66;03m#     unlock_door(room)\u001b[39;00m\n\u001b[0;32m     28\u001b[0m \u001b[38;5;28;01melif\u001b[39;00m intended_action \u001b[38;5;241m==\u001b[39m \u001b[38;5;124m\"\u001b[39m\u001b[38;5;124mmove room\u001b[39m\u001b[38;5;124m\"\u001b[39m:\n\u001b[1;32m---> 29\u001b[0m     move_room(room, game_state)\n\u001b[0;32m     30\u001b[0m     play_room(room, game_state)\n\u001b[0;32m     31\u001b[0m \u001b[38;5;28;01melif\u001b[39;00m intended_action \u001b[38;5;241m==\u001b[39m \u001b[38;5;124m\"\u001b[39m\u001b[38;5;124mexamine\u001b[39m\u001b[38;5;124m\"\u001b[39m:\n",
      "File \u001b[1;32m~\\Ironhack\\Bootcamp\\Week1\\mini-project-escape-room\\functions.py:184\u001b[0m, in \u001b[0;36mmove_room\u001b[1;34m(current_room, game_state)\u001b[0m\n\u001b[0;32m    182\u001b[0m         next_room \u001b[38;5;241m=\u001b[39m get_next_room_of_door(door, current_room)\n\u001b[0;32m    183\u001b[0m         \u001b[38;5;28mprint\u001b[39m(\u001b[38;5;124mf\u001b[39m\u001b[38;5;124m\"\u001b[39m\u001b[38;5;124mMoving through \u001b[39m\u001b[38;5;132;01m{\u001b[39;00mchosen_door_name\u001b[38;5;132;01m}\u001b[39;00m\u001b[38;5;124m, you enter \u001b[39m\u001b[38;5;132;01m{\u001b[39;00mnext_room[\u001b[38;5;124m'\u001b[39m\u001b[38;5;124mname\u001b[39m\u001b[38;5;124m'\u001b[39m]\u001b[38;5;132;01m}\u001b[39;00m\u001b[38;5;124m.\u001b[39m\u001b[38;5;124m\"\u001b[39m)\n\u001b[1;32m--> 184\u001b[0m         play_room(next_room, game_state)\n\u001b[0;32m    185\u001b[0m         \u001b[38;5;28;01mreturn\u001b[39;00m  \u001b[38;5;66;03m# Ends the function after moving to the next room or informing about the locked status\u001b[39;00m\n\u001b[0;32m    186\u001b[0m \u001b[38;5;28;01melse\u001b[39;00m:\n",
      "File \u001b[1;32m~\\Ironhack\\Bootcamp\\Week1\\mini-project-escape-room\\functions.py:25\u001b[0m, in \u001b[0;36mplay_room\u001b[1;34m(room, game_state)\u001b[0m\n\u001b[0;32m     23\u001b[0m \u001b[38;5;28;01mif\u001b[39;00m intended_action \u001b[38;5;241m==\u001b[39m \u001b[38;5;124m\"\u001b[39m\u001b[38;5;124mexplore\u001b[39m\u001b[38;5;124m\"\u001b[39m:\n\u001b[0;32m     24\u001b[0m     explore_room(room)\n\u001b[1;32m---> 25\u001b[0m     play_room(room, game_state)\n\u001b[0;32m     26\u001b[0m \u001b[38;5;66;03m# elif intended_action == \"unlock door\":\u001b[39;00m\n\u001b[0;32m     27\u001b[0m \u001b[38;5;66;03m#     unlock_door(room)\u001b[39;00m\n\u001b[0;32m     28\u001b[0m \u001b[38;5;28;01melif\u001b[39;00m intended_action \u001b[38;5;241m==\u001b[39m \u001b[38;5;124m\"\u001b[39m\u001b[38;5;124mmove room\u001b[39m\u001b[38;5;124m\"\u001b[39m:\n",
      "File \u001b[1;32m~\\Ironhack\\Bootcamp\\Week1\\mini-project-escape-room\\functions.py:33\u001b[0m, in \u001b[0;36mplay_room\u001b[1;34m(room, game_state)\u001b[0m\n\u001b[0;32m     31\u001b[0m \u001b[38;5;28;01melif\u001b[39;00m intended_action \u001b[38;5;241m==\u001b[39m \u001b[38;5;124m\"\u001b[39m\u001b[38;5;124mexamine\u001b[39m\u001b[38;5;124m\"\u001b[39m:\n\u001b[0;32m     32\u001b[0m     examine_item(\u001b[38;5;28minput\u001b[39m(\u001b[38;5;124m\"\u001b[39m\u001b[38;5;124mWhat would you like to examine?\u001b[39m\u001b[38;5;124m\"\u001b[39m)\u001b[38;5;241m.\u001b[39mstrip(), game_state)\n\u001b[1;32m---> 33\u001b[0m     play_room(room, game_state)\n\u001b[0;32m     34\u001b[0m \u001b[38;5;28;01melse\u001b[39;00m:\n\u001b[0;32m     35\u001b[0m     \u001b[38;5;28mprint\u001b[39m(\u001b[38;5;124m\"\u001b[39m\u001b[38;5;124mNot sure what you mean. Type \u001b[39m\u001b[38;5;124m'\u001b[39m\u001b[38;5;124mexplore\u001b[39m\u001b[38;5;124m'\u001b[39m\u001b[38;5;124m or \u001b[39m\u001b[38;5;124m'\u001b[39m\u001b[38;5;124mexamine\u001b[39m\u001b[38;5;124m'\u001b[39m\u001b[38;5;124m.\u001b[39m\u001b[38;5;124m\"\u001b[39m)\n",
      "File \u001b[1;32m~\\Ironhack\\Bootcamp\\Week1\\mini-project-escape-room\\functions.py:33\u001b[0m, in \u001b[0;36mplay_room\u001b[1;34m(room, game_state)\u001b[0m\n\u001b[0;32m     31\u001b[0m \u001b[38;5;28;01melif\u001b[39;00m intended_action \u001b[38;5;241m==\u001b[39m \u001b[38;5;124m\"\u001b[39m\u001b[38;5;124mexamine\u001b[39m\u001b[38;5;124m\"\u001b[39m:\n\u001b[0;32m     32\u001b[0m     examine_item(\u001b[38;5;28minput\u001b[39m(\u001b[38;5;124m\"\u001b[39m\u001b[38;5;124mWhat would you like to examine?\u001b[39m\u001b[38;5;124m\"\u001b[39m)\u001b[38;5;241m.\u001b[39mstrip(), game_state)\n\u001b[1;32m---> 33\u001b[0m     play_room(room, game_state)\n\u001b[0;32m     34\u001b[0m \u001b[38;5;28;01melse\u001b[39;00m:\n\u001b[0;32m     35\u001b[0m     \u001b[38;5;28mprint\u001b[39m(\u001b[38;5;124m\"\u001b[39m\u001b[38;5;124mNot sure what you mean. Type \u001b[39m\u001b[38;5;124m'\u001b[39m\u001b[38;5;124mexplore\u001b[39m\u001b[38;5;124m'\u001b[39m\u001b[38;5;124m or \u001b[39m\u001b[38;5;124m'\u001b[39m\u001b[38;5;124mexamine\u001b[39m\u001b[38;5;124m'\u001b[39m\u001b[38;5;124m.\u001b[39m\u001b[38;5;124m\"\u001b[39m)\n",
      "File \u001b[1;32m~\\Ironhack\\Bootcamp\\Week1\\mini-project-escape-room\\functions.py:29\u001b[0m, in \u001b[0;36mplay_room\u001b[1;34m(room, game_state)\u001b[0m\n\u001b[0;32m     26\u001b[0m \u001b[38;5;66;03m# elif intended_action == \"unlock door\":\u001b[39;00m\n\u001b[0;32m     27\u001b[0m \u001b[38;5;66;03m#     unlock_door(room)\u001b[39;00m\n\u001b[0;32m     28\u001b[0m \u001b[38;5;28;01melif\u001b[39;00m intended_action \u001b[38;5;241m==\u001b[39m \u001b[38;5;124m\"\u001b[39m\u001b[38;5;124mmove room\u001b[39m\u001b[38;5;124m\"\u001b[39m:\n\u001b[1;32m---> 29\u001b[0m     move_room(room, game_state)\n\u001b[0;32m     30\u001b[0m     play_room(room, game_state)\n\u001b[0;32m     31\u001b[0m \u001b[38;5;28;01melif\u001b[39;00m intended_action \u001b[38;5;241m==\u001b[39m \u001b[38;5;124m\"\u001b[39m\u001b[38;5;124mexamine\u001b[39m\u001b[38;5;124m\"\u001b[39m:\n",
      "File \u001b[1;32m~\\Ironhack\\Bootcamp\\Week1\\mini-project-escape-room\\functions.py:184\u001b[0m, in \u001b[0;36mmove_room\u001b[1;34m(current_room, game_state)\u001b[0m\n\u001b[0;32m    182\u001b[0m         next_room \u001b[38;5;241m=\u001b[39m get_next_room_of_door(door, current_room)\n\u001b[0;32m    183\u001b[0m         \u001b[38;5;28mprint\u001b[39m(\u001b[38;5;124mf\u001b[39m\u001b[38;5;124m\"\u001b[39m\u001b[38;5;124mMoving through \u001b[39m\u001b[38;5;132;01m{\u001b[39;00mchosen_door_name\u001b[38;5;132;01m}\u001b[39;00m\u001b[38;5;124m, you enter \u001b[39m\u001b[38;5;132;01m{\u001b[39;00mnext_room[\u001b[38;5;124m'\u001b[39m\u001b[38;5;124mname\u001b[39m\u001b[38;5;124m'\u001b[39m]\u001b[38;5;132;01m}\u001b[39;00m\u001b[38;5;124m.\u001b[39m\u001b[38;5;124m\"\u001b[39m)\n\u001b[1;32m--> 184\u001b[0m         play_room(next_room, game_state)\n\u001b[0;32m    185\u001b[0m         \u001b[38;5;28;01mreturn\u001b[39;00m  \u001b[38;5;66;03m# Ends the function after moving to the next room or informing about the locked status\u001b[39;00m\n\u001b[0;32m    186\u001b[0m \u001b[38;5;28;01melse\u001b[39;00m:\n",
      "    \u001b[1;31m[... skipping similar frames: play_room at line 33 (1 times)]\u001b[0m\n",
      "File \u001b[1;32m~\\Ironhack\\Bootcamp\\Week1\\mini-project-escape-room\\functions.py:29\u001b[0m, in \u001b[0;36mplay_room\u001b[1;34m(room, game_state)\u001b[0m\n\u001b[0;32m     26\u001b[0m \u001b[38;5;66;03m# elif intended_action == \"unlock door\":\u001b[39;00m\n\u001b[0;32m     27\u001b[0m \u001b[38;5;66;03m#     unlock_door(room)\u001b[39;00m\n\u001b[0;32m     28\u001b[0m \u001b[38;5;28;01melif\u001b[39;00m intended_action \u001b[38;5;241m==\u001b[39m \u001b[38;5;124m\"\u001b[39m\u001b[38;5;124mmove room\u001b[39m\u001b[38;5;124m\"\u001b[39m:\n\u001b[1;32m---> 29\u001b[0m     move_room(room, game_state)\n\u001b[0;32m     30\u001b[0m     play_room(room, game_state)\n\u001b[0;32m     31\u001b[0m \u001b[38;5;28;01melif\u001b[39;00m intended_action \u001b[38;5;241m==\u001b[39m \u001b[38;5;124m\"\u001b[39m\u001b[38;5;124mexamine\u001b[39m\u001b[38;5;124m\"\u001b[39m:\n",
      "File \u001b[1;32m~\\Ironhack\\Bootcamp\\Week1\\mini-project-escape-room\\functions.py:184\u001b[0m, in \u001b[0;36mmove_room\u001b[1;34m(current_room, game_state)\u001b[0m\n\u001b[0;32m    182\u001b[0m         next_room \u001b[38;5;241m=\u001b[39m get_next_room_of_door(door, current_room)\n\u001b[0;32m    183\u001b[0m         \u001b[38;5;28mprint\u001b[39m(\u001b[38;5;124mf\u001b[39m\u001b[38;5;124m\"\u001b[39m\u001b[38;5;124mMoving through \u001b[39m\u001b[38;5;132;01m{\u001b[39;00mchosen_door_name\u001b[38;5;132;01m}\u001b[39;00m\u001b[38;5;124m, you enter \u001b[39m\u001b[38;5;132;01m{\u001b[39;00mnext_room[\u001b[38;5;124m'\u001b[39m\u001b[38;5;124mname\u001b[39m\u001b[38;5;124m'\u001b[39m]\u001b[38;5;132;01m}\u001b[39;00m\u001b[38;5;124m.\u001b[39m\u001b[38;5;124m\"\u001b[39m)\n\u001b[1;32m--> 184\u001b[0m         play_room(next_room, game_state)\n\u001b[0;32m    185\u001b[0m         \u001b[38;5;28;01mreturn\u001b[39;00m  \u001b[38;5;66;03m# Ends the function after moving to the next room or informing about the locked status\u001b[39;00m\n\u001b[0;32m    186\u001b[0m \u001b[38;5;28;01melse\u001b[39;00m:\n",
      "File \u001b[1;32m~\\Ironhack\\Bootcamp\\Week1\\mini-project-escape-room\\functions.py:33\u001b[0m, in \u001b[0;36mplay_room\u001b[1;34m(room, game_state)\u001b[0m\n\u001b[0;32m     31\u001b[0m \u001b[38;5;28;01melif\u001b[39;00m intended_action \u001b[38;5;241m==\u001b[39m \u001b[38;5;124m\"\u001b[39m\u001b[38;5;124mexamine\u001b[39m\u001b[38;5;124m\"\u001b[39m:\n\u001b[0;32m     32\u001b[0m     examine_item(\u001b[38;5;28minput\u001b[39m(\u001b[38;5;124m\"\u001b[39m\u001b[38;5;124mWhat would you like to examine?\u001b[39m\u001b[38;5;124m\"\u001b[39m)\u001b[38;5;241m.\u001b[39mstrip(), game_state)\n\u001b[1;32m---> 33\u001b[0m     play_room(room, game_state)\n\u001b[0;32m     34\u001b[0m \u001b[38;5;28;01melse\u001b[39;00m:\n\u001b[0;32m     35\u001b[0m     \u001b[38;5;28mprint\u001b[39m(\u001b[38;5;124m\"\u001b[39m\u001b[38;5;124mNot sure what you mean. Type \u001b[39m\u001b[38;5;124m'\u001b[39m\u001b[38;5;124mexplore\u001b[39m\u001b[38;5;124m'\u001b[39m\u001b[38;5;124m or \u001b[39m\u001b[38;5;124m'\u001b[39m\u001b[38;5;124mexamine\u001b[39m\u001b[38;5;124m'\u001b[39m\u001b[38;5;124m.\u001b[39m\u001b[38;5;124m\"\u001b[39m)\n",
      "File \u001b[1;32m~\\Ironhack\\Bootcamp\\Week1\\mini-project-escape-room\\functions.py:30\u001b[0m, in \u001b[0;36mplay_room\u001b[1;34m(room, game_state)\u001b[0m\n\u001b[0;32m     28\u001b[0m \u001b[38;5;28;01melif\u001b[39;00m intended_action \u001b[38;5;241m==\u001b[39m \u001b[38;5;124m\"\u001b[39m\u001b[38;5;124mmove room\u001b[39m\u001b[38;5;124m\"\u001b[39m:\n\u001b[0;32m     29\u001b[0m     move_room(room, game_state)\n\u001b[1;32m---> 30\u001b[0m     play_room(room, game_state)\n\u001b[0;32m     31\u001b[0m \u001b[38;5;28;01melif\u001b[39;00m intended_action \u001b[38;5;241m==\u001b[39m \u001b[38;5;124m\"\u001b[39m\u001b[38;5;124mexamine\u001b[39m\u001b[38;5;124m\"\u001b[39m:\n\u001b[0;32m     32\u001b[0m     examine_item(\u001b[38;5;28minput\u001b[39m(\u001b[38;5;124m\"\u001b[39m\u001b[38;5;124mWhat would you like to examine?\u001b[39m\u001b[38;5;124m\"\u001b[39m)\u001b[38;5;241m.\u001b[39mstrip(), game_state)\n",
      "File \u001b[1;32m~\\Ironhack\\Bootcamp\\Week1\\mini-project-escape-room\\functions.py:22\u001b[0m, in \u001b[0;36mplay_room\u001b[1;34m(room, game_state)\u001b[0m\n\u001b[0;32m     20\u001b[0m \u001b[38;5;28;01melse\u001b[39;00m:\n\u001b[0;32m     21\u001b[0m     \u001b[38;5;28mprint\u001b[39m(\u001b[38;5;124m\"\u001b[39m\u001b[38;5;124mYou are now in \u001b[39m\u001b[38;5;124m\"\u001b[39m \u001b[38;5;241m+\u001b[39m room[\u001b[38;5;124m\"\u001b[39m\u001b[38;5;124mname\u001b[39m\u001b[38;5;124m\"\u001b[39m])\n\u001b[1;32m---> 22\u001b[0m     intended_action \u001b[38;5;241m=\u001b[39m \u001b[38;5;28minput\u001b[39m(\u001b[38;5;124m\"\u001b[39m\u001b[38;5;124mWhat would you like to do? Type \u001b[39m\u001b[38;5;124m'\u001b[39m\u001b[38;5;124mexplore\u001b[39m\u001b[38;5;124m'\u001b[39m\u001b[38;5;124m or \u001b[39m\u001b[38;5;124m'\u001b[39m\u001b[38;5;124mexamine\u001b[39m\u001b[38;5;124m'\u001b[39m\u001b[38;5;124m or \u001b[39m\u001b[38;5;124m'\u001b[39m\u001b[38;5;124mmove room\u001b[39m\u001b[38;5;124m'\u001b[39m\u001b[38;5;124m:?\u001b[39m\u001b[38;5;124m\"\u001b[39m)\u001b[38;5;241m.\u001b[39mstrip()\n\u001b[0;32m     23\u001b[0m     \u001b[38;5;28;01mif\u001b[39;00m intended_action \u001b[38;5;241m==\u001b[39m \u001b[38;5;124m\"\u001b[39m\u001b[38;5;124mexplore\u001b[39m\u001b[38;5;124m\"\u001b[39m:\n\u001b[0;32m     24\u001b[0m         explore_room(room)\n",
      "File \u001b[1;32m~\\anaconda3\\Lib\\site-packages\\ipykernel\\kernelbase.py:1262\u001b[0m, in \u001b[0;36mKernel.raw_input\u001b[1;34m(self, prompt)\u001b[0m\n\u001b[0;32m   1260\u001b[0m     msg \u001b[38;5;241m=\u001b[39m \u001b[38;5;124m\"\u001b[39m\u001b[38;5;124mraw_input was called, but this frontend does not support input requests.\u001b[39m\u001b[38;5;124m\"\u001b[39m\n\u001b[0;32m   1261\u001b[0m     \u001b[38;5;28;01mraise\u001b[39;00m StdinNotImplementedError(msg)\n\u001b[1;32m-> 1262\u001b[0m \u001b[38;5;28;01mreturn\u001b[39;00m \u001b[38;5;28mself\u001b[39m\u001b[38;5;241m.\u001b[39m_input_request(\n\u001b[0;32m   1263\u001b[0m     \u001b[38;5;28mstr\u001b[39m(prompt),\n\u001b[0;32m   1264\u001b[0m     \u001b[38;5;28mself\u001b[39m\u001b[38;5;241m.\u001b[39m_parent_ident[\u001b[38;5;124m\"\u001b[39m\u001b[38;5;124mshell\u001b[39m\u001b[38;5;124m\"\u001b[39m],\n\u001b[0;32m   1265\u001b[0m     \u001b[38;5;28mself\u001b[39m\u001b[38;5;241m.\u001b[39mget_parent(\u001b[38;5;124m\"\u001b[39m\u001b[38;5;124mshell\u001b[39m\u001b[38;5;124m\"\u001b[39m),\n\u001b[0;32m   1266\u001b[0m     password\u001b[38;5;241m=\u001b[39m\u001b[38;5;28;01mFalse\u001b[39;00m,\n\u001b[0;32m   1267\u001b[0m )\n",
      "File \u001b[1;32m~\\anaconda3\\Lib\\site-packages\\ipykernel\\kernelbase.py:1305\u001b[0m, in \u001b[0;36mKernel._input_request\u001b[1;34m(self, prompt, ident, parent, password)\u001b[0m\n\u001b[0;32m   1302\u001b[0m \u001b[38;5;28;01mexcept\u001b[39;00m \u001b[38;5;167;01mKeyboardInterrupt\u001b[39;00m:\n\u001b[0;32m   1303\u001b[0m     \u001b[38;5;66;03m# re-raise KeyboardInterrupt, to truncate traceback\u001b[39;00m\n\u001b[0;32m   1304\u001b[0m     msg \u001b[38;5;241m=\u001b[39m \u001b[38;5;124m\"\u001b[39m\u001b[38;5;124mInterrupted by user\u001b[39m\u001b[38;5;124m\"\u001b[39m\n\u001b[1;32m-> 1305\u001b[0m     \u001b[38;5;28;01mraise\u001b[39;00m \u001b[38;5;167;01mKeyboardInterrupt\u001b[39;00m(msg) \u001b[38;5;28;01mfrom\u001b[39;00m \u001b[38;5;28;01mNone\u001b[39;00m\n\u001b[0;32m   1306\u001b[0m \u001b[38;5;28;01mexcept\u001b[39;00m \u001b[38;5;167;01mException\u001b[39;00m:\n\u001b[0;32m   1307\u001b[0m     \u001b[38;5;28mself\u001b[39m\u001b[38;5;241m.\u001b[39mlog\u001b[38;5;241m.\u001b[39mwarning(\u001b[38;5;124m\"\u001b[39m\u001b[38;5;124mInvalid Message:\u001b[39m\u001b[38;5;124m\"\u001b[39m, exc_info\u001b[38;5;241m=\u001b[39m\u001b[38;5;28;01mTrue\u001b[39;00m)\n",
      "\u001b[1;31mKeyboardInterrupt\u001b[0m: Interrupted by user"
     ]
    }
   ],
   "source": [
    "functions.start_game(game_state)"
   ]
  },
  {
   "cell_type": "code",
   "execution_count": null,
   "metadata": {},
   "outputs": [],
   "source": []
  }
 ],
 "metadata": {
  "colab": {
   "provenance": [
    {
     "file_id": "1y3h9UWhUwIXVzRbuQOxMeV5ShL9m9_kY",
     "timestamp": 1736869545115
    }
   ]
  },
  "kernelspec": {
   "display_name": "Python 3 (ipykernel)",
   "language": "python",
   "name": "python3"
  },
  "language_info": {
   "codemirror_mode": {
    "name": "ipython",
    "version": 3
   },
   "file_extension": ".py",
   "mimetype": "text/x-python",
   "name": "python",
   "nbconvert_exporter": "python",
   "pygments_lexer": "ipython3",
   "version": "3.12.7"
  }
 },
 "nbformat": 4,
 "nbformat_minor": 4
}
